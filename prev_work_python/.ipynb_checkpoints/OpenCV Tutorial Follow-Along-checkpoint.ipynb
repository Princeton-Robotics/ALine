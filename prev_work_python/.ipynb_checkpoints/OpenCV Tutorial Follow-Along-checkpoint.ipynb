{
 "cells": [
  {
   "cell_type": "code",
   "execution_count": 1,
   "metadata": {},
   "outputs": [],
   "source": [
    "# Start by installing opencv and dlib with pip/pip3:\n",
    "# pip3 install opencv-python\n",
    "# pip3 install dlib"
   ]
  },
  {
   "cell_type": "code",
   "execution_count": 2,
   "metadata": {},
   "outputs": [],
   "source": [
    "# Start by importing opencv, numpy, an dlib\n",
    "import cv2\n",
    "import numpy as np\n",
    "import dlib\n",
    "import imutils\n",
    "from imutils import face_utils\n",
    "from math import atan2\n",
    "from math import pi as PI\n",
    "\n",
    "SHOW_FACE_POINTS = False\n",
    "# detector = dlib.get_frontal_face_detector()\n",
    "# predictor = dlib.shape_predictor('C:/Users/Kyle/Downloads/shape_predictor_68_face_landmarks.dat') # Replace with your path, \n",
    "                    # download here: http://dlib.net/files/shape_predictor_68_face_landmarks.dat.bz2, extract\n",
    "# moustache_mask = 1-(cv2.imread('C:/Users/Kyle/Desktop/mous.jfif')/255) # convert to mask, https://www.bing.com/th?id=OIP.ftDeHYROqGLXXU2IH3xg7wHaCd&pid=Api&rs=1"
   ]
  },
  {
   "cell_type": "code",
   "execution_count": 3,
   "metadata": {},
   "outputs": [],
   "source": [
    "def ConvertToBW(image):\n",
    "    hsv = cv2.cvtColor(image, cv2.COLOR_BGR2HSV)\n",
    "    gray = hsv[:, :, 2]\n",
    "    return gray"
   ]
  },
  {
   "cell_type": "code",
   "execution_count": 4,
   "metadata": {},
   "outputs": [],
   "source": [
    "def BlurImage(image):\n",
    "    kernel = np.array([[1, 1, 1, 1, 1],\n",
    "                      [1, 1, 1, 1, 1],\n",
    "                      [1, 1, 1, 1, 1],\n",
    "                      [1, 1, 1, 1, 1],\n",
    "                      [1, 1, 1, 1, 1]])\n",
    "    kernel = kernel / (len(kernel) * len(kernel[0]))\n",
    "    blurred = cv2.filter2D(image, -1, kernel)\n",
    "    return blurred"
   ]
  },
  {
   "cell_type": "code",
   "execution_count": 5,
   "metadata": {},
   "outputs": [],
   "source": [
    "def DetectEdges(image):\n",
    "    image = image.astype(np.float32)\n",
    "    \n",
    "    kernel_vertical = np.array([[-1, 0, 1],\n",
    "                                [-2, 0, 2],\n",
    "                                [-1, 0, 1]])\n",
    "    kernel_horizontal = np.array([[-1, -2, -1],\n",
    "                                [0, 0, 0],\n",
    "                                [1, 2, 1]])\n",
    "    vertical_edges = cv2.filter2D(image, -1, kernel_vertical)\n",
    "    horizontal_edges = cv2.filter2D(image, -1, kernel_horizontal)\n",
    "    \n",
    "    summed = (vertical_edges ** 2) + (horizontal_edges ** 2)\n",
    "    edges = summed ** 0.5\n",
    "    \n",
    "    edges[edges < 125] = 0\n",
    "    edges[edges >= 125] = 255\n",
    "    \n",
    "    return edges"
   ]
  },
  {
   "cell_type": "code",
   "execution_count": 6,
   "metadata": {},
   "outputs": [],
   "source": [
    "def Moustache(image):\n",
    "    \n",
    "    return image"
   ]
  },
  {
   "cell_type": "code",
   "execution_count": 7,
   "metadata": {},
   "outputs": [
    {
     "ename": "NameError",
     "evalue": "name 'float32' is not defined",
     "output_type": "error",
     "traceback": [
      "\u001b[0;31m---------------------------------------------------------------------------\u001b[0m",
      "\u001b[0;31mNameError\u001b[0m                                 Traceback (most recent call last)",
      "\u001b[0;32m<ipython-input-7-fbc45e2c48c7>\u001b[0m in \u001b[0;36m<module>\u001b[0;34m()\u001b[0m\n\u001b[1;32m     17\u001b[0m         \u001b[0mcv2\u001b[0m\u001b[0;34m.\u001b[0m\u001b[0mimshow\u001b[0m\u001b[0;34m(\u001b[0m\u001b[0;34m'BW'\u001b[0m\u001b[0;34m,\u001b[0m\u001b[0mConvertToBW\u001b[0m\u001b[0;34m(\u001b[0m\u001b[0mframe\u001b[0m\u001b[0;34m)\u001b[0m\u001b[0;34m)\u001b[0m\u001b[0;34m\u001b[0m\u001b[0m\n\u001b[1;32m     18\u001b[0m         \u001b[0mcv2\u001b[0m\u001b[0;34m.\u001b[0m\u001b[0mimshow\u001b[0m\u001b[0;34m(\u001b[0m\u001b[0;34m'Blur'\u001b[0m\u001b[0;34m,\u001b[0m\u001b[0mBlurImage\u001b[0m\u001b[0;34m(\u001b[0m\u001b[0mframe\u001b[0m\u001b[0;34m)\u001b[0m\u001b[0;34m)\u001b[0m\u001b[0;34m\u001b[0m\u001b[0m\n\u001b[0;32m---> 19\u001b[0;31m         \u001b[0mcv2\u001b[0m\u001b[0;34m.\u001b[0m\u001b[0mimshow\u001b[0m\u001b[0;34m(\u001b[0m\u001b[0;34m'Edge'\u001b[0m\u001b[0;34m,\u001b[0m\u001b[0mDetectEdges\u001b[0m\u001b[0;34m(\u001b[0m\u001b[0mframe\u001b[0m\u001b[0;34m)\u001b[0m\u001b[0;34m)\u001b[0m\u001b[0;34m\u001b[0m\u001b[0m\n\u001b[0m\u001b[1;32m     20\u001b[0m         \u001b[0mcv2\u001b[0m\u001b[0;34m.\u001b[0m\u001b[0mimshow\u001b[0m\u001b[0;34m(\u001b[0m\u001b[0;34m'Moustache'\u001b[0m\u001b[0;34m,\u001b[0m\u001b[0mMoustache\u001b[0m\u001b[0;34m(\u001b[0m\u001b[0mframe\u001b[0m\u001b[0;34m)\u001b[0m\u001b[0;34m)\u001b[0m\u001b[0;34m\u001b[0m\u001b[0m\n\u001b[1;32m     21\u001b[0m \u001b[0;34m\u001b[0m\u001b[0m\n",
      "\u001b[0;32m<ipython-input-5-a7e9ebd062a5>\u001b[0m in \u001b[0;36mDetectEdges\u001b[0;34m(image)\u001b[0m\n\u001b[1;32m      1\u001b[0m \u001b[0;32mdef\u001b[0m \u001b[0mDetectEdges\u001b[0m\u001b[0;34m(\u001b[0m\u001b[0mimage\u001b[0m\u001b[0;34m)\u001b[0m\u001b[0;34m:\u001b[0m\u001b[0;34m\u001b[0m\u001b[0m\n\u001b[0;32m----> 2\u001b[0;31m     \u001b[0mimage\u001b[0m \u001b[0;34m=\u001b[0m \u001b[0mimage\u001b[0m\u001b[0;34m.\u001b[0m\u001b[0mastype\u001b[0m\u001b[0;34m(\u001b[0m\u001b[0mfloat32\u001b[0m\u001b[0;34m)\u001b[0m\u001b[0;34m\u001b[0m\u001b[0m\n\u001b[0m\u001b[1;32m      3\u001b[0m \u001b[0;34m\u001b[0m\u001b[0m\n\u001b[1;32m      4\u001b[0m     kernel_vertical = np.array([[-1, 0, 1],\n\u001b[1;32m      5\u001b[0m                                 \u001b[0;34m[\u001b[0m\u001b[0;34m-\u001b[0m\u001b[0;36m2\u001b[0m\u001b[0;34m,\u001b[0m \u001b[0;36m0\u001b[0m\u001b[0;34m,\u001b[0m \u001b[0;36m2\u001b[0m\u001b[0;34m]\u001b[0m\u001b[0;34m,\u001b[0m\u001b[0;34m\u001b[0m\u001b[0m\n",
      "\u001b[0;31mNameError\u001b[0m: name 'float32' is not defined"
     ]
    }
   ],
   "source": [
    "# Create a VideoCapture object, pass 0 to read from (first) camera on system\n",
    "cap = cv2.VideoCapture(0)\n",
    "\n",
    "# Check if camera opened successfully\n",
    "if (cap.isOpened()== False): \n",
    "    print(\"Error opening video stream or file\")\n",
    "\n",
    "# Read until video is completed\n",
    "while(cap.isOpened()):\n",
    "    # Capture frame-by-frame\n",
    "    ret, frame = cap.read()\n",
    "    frame = imutils.resize(frame, width=300) # Can adjust this value\n",
    "    \n",
    "    if ret == True:\n",
    "        # Display the resulting frame\n",
    "        cv2.imshow('input',frame)\n",
    "        cv2.imshow('BW',ConvertToBW(frame))\n",
    "        cv2.imshow('Blur',BlurImage(frame))\n",
    "        cv2.imshow('Edge',DetectEdges(frame))\n",
    "        cv2.imshow('Moustache',Moustache(frame))\n",
    "\n",
    "        # Press Q on keyboard to  exit\n",
    "        if cv2.waitKey(25) & 0xFF == ord('q'): #25ms pause between each frame\n",
    "            break\n",
    "\n",
    "    # Break the loop\n",
    "    else: \n",
    "        break\n",
    "\n",
    "# When everything done, release the video capture object\n",
    "cap.release()\n",
    "\n",
    "# Closes all the frames\n",
    "cv2.destroyAllWindows()"
   ]
  },
  {
   "cell_type": "code",
   "execution_count": null,
   "metadata": {},
   "outputs": [],
   "source": []
  }
 ],
 "metadata": {
  "kernelspec": {
   "display_name": "Python 3",
   "language": "python",
   "name": "python3"
  },
  "language_info": {
   "codemirror_mode": {
    "name": "ipython",
    "version": 3
   },
   "file_extension": ".py",
   "mimetype": "text/x-python",
   "name": "python",
   "nbconvert_exporter": "python",
   "pygments_lexer": "ipython3",
   "version": "3.6.5"
  }
 },
 "nbformat": 4,
 "nbformat_minor": 2
}
