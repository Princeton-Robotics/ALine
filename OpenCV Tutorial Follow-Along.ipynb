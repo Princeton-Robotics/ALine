{
 "cells": [
  {
   "cell_type": "code",
   "execution_count": 1,
   "metadata": {},
   "outputs": [],
   "source": [
    "# Start by installing opencv and dlib with pip/pip3:\n",
    "# pip3 install opencv-python\n",
    "# pip3 install dlib"
   ]
  },
  {
   "cell_type": "code",
   "execution_count": 2,
   "metadata": {},
   "outputs": [],
   "source": [
    "# Start by importing opencv, numpy, an dlib\n",
    "import cv2\n",
    "import numpy as np\n",
    "import dlib\n",
    "import imutils\n",
    "from imutils import face_utils\n",
    "from math import atan2\n",
    "from math import pi as PI\n",
    "\n",
    "SHOW_FACE_POINTS = False\n",
    "detector = dlib.get_frontal_face_detector()\n",
    "predictor = dlib.shape_predictor('C:/Users/Kyle/Downloads/shape_predictor_68_face_landmarks.dat') # Replace with your path, \n",
    "                    # download here: http://dlib.net/files/shape_predictor_68_face_landmarks.dat.bz2, extract\n",
    "moustache_mask = 1-(cv2.imread('C:/Users/Kyle/Desktop/mous.jfif')/255) # convert to mask, https://www.bing.com/th?id=OIP.ftDeHYROqGLXXU2IH3xg7wHaCd&pid=Api&rs=1"
   ]
  },
  {
   "cell_type": "code",
   "execution_count": 3,
   "metadata": {},
   "outputs": [],
   "source": [
    "def ConvertToBW(image):\n",
    "    \n",
    "    return image"
   ]
  },
  {
   "cell_type": "code",
   "execution_count": 4,
   "metadata": {},
   "outputs": [],
   "source": [
    "def BlurImage(image):\n",
    "    \n",
    "    return image"
   ]
  },
  {
   "cell_type": "code",
   "execution_count": 5,
   "metadata": {},
   "outputs": [],
   "source": [
    "def DetectEdges(image):\n",
    "    \n",
    "    return image"
   ]
  },
  {
   "cell_type": "code",
   "execution_count": 6,
   "metadata": {},
   "outputs": [],
   "source": [
    "def Moustache(image):\n",
    "    \n",
    "    return image"
   ]
  },
  {
   "cell_type": "code",
   "execution_count": 7,
   "metadata": {},
   "outputs": [],
   "source": [
    "# Create a VideoCapture object, pass 0 to read from (first) camera on system\n",
    "cap = cv2.VideoCapture(0)\n",
    "\n",
    "# Check if camera opened successfully\n",
    "if (cap.isOpened()== False): \n",
    "    print(\"Error opening video stream or file\")\n",
    "\n",
    "# Read until video is completed\n",
    "while(cap.isOpened()):\n",
    "    # Capture frame-by-frame\n",
    "    ret, frame = cap.read()\n",
    "    frame = imutils.resize(frame, width=300) # Can adjust this value\n",
    "    \n",
    "    if ret == True:\n",
    "        # Display the resulting frame\n",
    "        cv2.imshow('input',frame)\n",
    "        cv2.imshow('BW',ConvertToBW(frame))\n",
    "        cv2.imshow('Blur',BlurImage(frame))\n",
    "        cv2.imshow('Edge',DetectEdges(frame))\n",
    "        cv2.imshow('Moustache',Moustache(frame))\n",
    "\n",
    "        # Press Q on keyboard to  exit\n",
    "        if cv2.waitKey(25) & 0xFF == ord('q'): #25ms pause between each frame\n",
    "            break\n",
    "\n",
    "    # Break the loop\n",
    "    else: \n",
    "        break\n",
    "\n",
    "# When everything done, release the video capture object\n",
    "cap.release()\n",
    "\n",
    "# Closes all the frames\n",
    "cv2.destroyAllWindows()"
   ]
  }
 ],
 "metadata": {
  "kernelspec": {
   "display_name": "Python 3",
   "language": "python",
   "name": "python3"
  },
  "language_info": {
   "codemirror_mode": {
    "name": "ipython",
    "version": 3
   },
   "file_extension": ".py",
   "mimetype": "text/x-python",
   "name": "python",
   "nbconvert_exporter": "python",
   "pygments_lexer": "ipython3",
   "version": "3.7.4"
  }
 },
 "nbformat": 4,
 "nbformat_minor": 2
}
